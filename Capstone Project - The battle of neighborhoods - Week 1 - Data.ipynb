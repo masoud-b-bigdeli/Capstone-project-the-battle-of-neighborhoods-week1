{
 "cells": [
  {
   "cell_type": "markdown",
   "metadata": {},
   "source": [
    "# Covid-19 cases in City of Toronto neighborhoods\n"
   ]
  },
  {
   "cell_type": "markdown",
   "metadata": {},
   "source": [
    "## Introduction/Business Problem"
   ]
  },
  {
   "cell_type": "markdown",
   "metadata": {},
   "source": [
    "Over the past few months of the covid-19 outbreak, it is well established that an effective way to control the spread of novel coronavirus is by testing the symptomatic and potential cases, followed quarantining the positive cases. Although testing is critical, healthcare sector has a defined capacity and constrained resources, rendering the idea of testing an entire nation over and over for a period of time impractical. The need for a more focused testing strategy was highlighted by the researchers recently, which would lead to efficient use of the resources available at hand. One way to do so, is by studying the spread of covid-19 at a greater level of granularity. Therefore, instead of viewing total counts in states and provinces, study the number of cases at neighborhood levels. Such approach could present a more focused point of view for defining an effective testing strategy making best use of available resources."
   ]
  }
 ],
 "metadata": {
  "kernelspec": {
   "display_name": "Python 3",
   "language": "python",
   "name": "python3"
  },
  "language_info": {
   "codemirror_mode": {
    "name": "ipython",
    "version": 3
   },
   "file_extension": ".py",
   "mimetype": "text/x-python",
   "name": "python",
   "nbconvert_exporter": "python",
   "pygments_lexer": "ipython3",
   "version": "3.7.3"
  }
 },
 "nbformat": 4,
 "nbformat_minor": 2
}
